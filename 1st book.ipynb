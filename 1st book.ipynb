{
 "cells": [
  {
   "cell_type": "markdown",
   "id": "102d886c",
   "metadata": {},
   "source": [
    "# Password Encryption"
   ]
  },
  {
   "cell_type": "code",
   "execution_count": null,
   "id": "a45d44c8",
   "metadata": {},
   "outputs": [],
   "source": [
    "dic={\n",
    "    \"a\":\"1\",\"b\":\"2\",\"c\":\"3\",\"d\":\"4\",\n",
    "    \"e\":\"5\",\"f\":\"6\",\"g\":\"7\",\"h\":\"8\",\n",
    "    \"i\":\"9\",\"j\":\"10\",\"k\":\"11\",\"l\":\"12\",\n",
    "    \"m\":\"13\",\"n\":\"14\",\"o\":\"15\",\"p\":\"16\",\n",
    "    \"q\":\"17\",\"r\":\"18\",\"s\":\"19\",\"t\":\"20\",\n",
    "    \"u\":\"21\",\"v\":\"22\",\"w\":\"23\",\"x\":\"24\",\n",
    "    \"y\":\"25\",\"z\":\"26\",}\n",
    "\n",
    "\n",
    "txt = input(\"Enter your password\\t\")\n",
    "alp=dic.keys()\n",
    "num=dic.values()\n",
    "\n",
    "\n",
    "for i in txt:\n",
    "    if i in alp:\n",
    "        print(num)\n",
    "    \n",
    "\n",
    "\n",
    "# for key, value in dic.items():\n",
    "#     if key == txt:\n",
    "#         print(key)\n",
    "#         for pair in dic.items():\n",
    "#             print(txt,'=',pair)"
   ]
  },
  {
   "cell_type": "code",
   "execution_count": null,
   "id": "f58215ad",
   "metadata": {},
   "outputs": [],
   "source": [
    "arr=[]\n",
    "\n",
    "for i in range(3):\n",
    "    arr.append(input('Enter a word: '))\n",
    "\n",
    "print(arr)\n",
    "\n",
    "count=0\n",
    "while count < 3:\n",
    "    inp=input(\"Enter Your word:\\t\")\n",
    "    \n",
    "    if inp in arr:\n",
    "        print(\"access granted\")\n",
    "        break\n",
    "    else:\n",
    "        print('invalid. Try Again')\n",
    "        count=count+1\n"
   ]
  },
  {
   "cell_type": "code",
   "execution_count": null,
   "id": "8470e072",
   "metadata": {},
   "outputs": [],
   "source": [
    "import numpy as np\n",
    "a= np.array([1,2,3],[2,3,4])\n",
    "a"
   ]
  },
  {
   "cell_type": "code",
   "execution_count": null,
   "id": "eddb9c80",
   "metadata": {},
   "outputs": [],
   "source": []
  },
  {
   "cell_type": "markdown",
   "id": "132a2aeb",
   "metadata": {},
   "source": [
    "# Looping through dictionary\n",
    "\n"
   ]
  },
  {
   "cell_type": "code",
   "execution_count": 4,
   "id": "fddb7ed0",
   "metadata": {},
   "outputs": [
    {
     "name": "stdout",
     "output_type": "stream",
     "text": [
      "Moiz\n"
     ]
    }
   ],
   "source": [
    "mydict={\n",
    "    \"first\":\"Abdul\",\n",
    "    \"middle\":\"Moiz\",\n",
    "    \"last\":\"Chishti\"\n",
    "}\n",
    "print(mydict[\"middle\"])\n"
   ]
  },
  {
   "cell_type": "markdown",
   "id": "cef1fad3",
   "metadata": {},
   "source": [
    "# OTP code\n"
   ]
  },
  {
   "cell_type": "code",
   "execution_count": null,
   "id": "76a6b52c",
   "metadata": {},
   "outputs": [],
   "source": [
    "import random\n",
    "\n",
    "# for i in range(4):\n",
    "num=random.randint(1000,9999)\n",
    "print(num)\n",
    "\n",
    "\n",
    "b= int(input('Enter otp'))\n",
    "\n",
    "if b==num:\n",
    "    print(\"signin\")\n",
    "else:\n",
    "    print('no')\n"
   ]
  },
  {
   "cell_type": "code",
   "execution_count": null,
   "id": "8e7807c8",
   "metadata": {},
   "outputs": [],
   "source": [
    "name=\"Michael Jackson\"\n",
    "print(name.find('&*D'))"
   ]
  },
  {
   "cell_type": "code",
   "execution_count": null,
   "id": "43dfe954",
   "metadata": {},
   "outputs": [],
   "source": [
    "tup=(10,('disco',9.8),'hard rock',88)\n",
    "tup[1][1]\n",
    "\n",
    "\n"
   ]
  },
  {
   "cell_type": "code",
   "execution_count": null,
   "id": "c71c8115",
   "metadata": {},
   "outputs": [],
   "source": [
    "import pandas as pd\n",
    "\n",
    "mydataset = {\n",
    "  'cars': [\"BMW\", \"Volvo\", \"Ford\", \"TATA\", \"Merc\", \"Ford\", \"Ford\", \"Ford\"],\n",
    "  'Seating Capacity': [2, 7, 5,7,5,7,2,5]\n",
    "}\n",
    "\n",
    "myvar = pd.DataFrame(mydataset)\n",
    "print(myvar,'\\n\\n')\n",
    "print(\"Cars which have passing greater than 3\\n\")\n",
    "res=myvar.loc[myvar['Seating Capacity'] >= 3]  \n",
    "print(res)"
   ]
  },
  {
   "cell_type": "markdown",
   "id": "2b924b17",
   "metadata": {},
   "source": [
    "# Task "
   ]
  },
  {
   "cell_type": "code",
   "execution_count": 3,
   "id": "fe481fe4",
   "metadata": {},
   "outputs": [
    {
     "ename": "KeyboardInterrupt",
     "evalue": "Interrupted by user",
     "output_type": "error",
     "traceback": [
      "\u001b[1;31m---------------------------------------------------------------------------\u001b[0m",
      "\u001b[1;31mKeyboardInterrupt\u001b[0m                         Traceback (most recent call last)",
      "Input \u001b[1;32mIn [3]\u001b[0m, in \u001b[0;36m<cell line: 29>\u001b[1;34m()\u001b[0m\n\u001b[0;32m     22\u001b[0m     \u001b[38;5;28;01mif\u001b[39;00m choice \u001b[38;5;241m==\u001b[39m \u001b[38;5;124m'\u001b[39m\u001b[38;5;124myes\u001b[39m\u001b[38;5;124m'\u001b[39m:\n\u001b[0;32m     23\u001b[0m         pizza()\n\u001b[1;32m---> 29\u001b[0m \u001b[43mpizza\u001b[49m\u001b[43m(\u001b[49m\u001b[43m)\u001b[49m\n",
      "Input \u001b[1;32mIn [3]\u001b[0m, in \u001b[0;36mpizza\u001b[1;34m()\u001b[0m\n\u001b[0;32m      1\u001b[0m \u001b[38;5;28;01mdef\u001b[39;00m \u001b[38;5;21mpizza\u001b[39m():\n\u001b[1;32m----> 3\u001b[0m     flv\u001b[38;5;241m=\u001b[39m\u001b[38;5;28;43minput\u001b[39;49m\u001b[43m(\u001b[49m\u001b[38;5;124;43m\"\u001b[39;49m\u001b[38;5;124;43menter which flavour you want to eat? \u001b[39;49m\u001b[38;5;124;43m\"\u001b[39;49m\u001b[43m)\u001b[49m\n\u001b[0;32m      4\u001b[0m     \u001b[38;5;28mprint\u001b[39m(\u001b[38;5;124m\"\u001b[39m\u001b[38;5;124mthe flavour of your pizza is \u001b[39m\u001b[38;5;124m\"\u001b[39m,flv\u001b[38;5;241m.\u001b[39mupper())\n\u001b[0;32m      6\u001b[0m     size\u001b[38;5;241m=\u001b[39m\u001b[38;5;28minput\u001b[39m(\u001b[38;5;124m\"\u001b[39m\u001b[38;5;124menter the size of your pizza? \u001b[39m\u001b[38;5;124m\"\u001b[39m)\n",
      "File \u001b[1;32m~\\anaconda3\\lib\\site-packages\\ipykernel\\kernelbase.py:1075\u001b[0m, in \u001b[0;36mKernel.raw_input\u001b[1;34m(self, prompt)\u001b[0m\n\u001b[0;32m   1071\u001b[0m \u001b[38;5;28;01mif\u001b[39;00m \u001b[38;5;129;01mnot\u001b[39;00m \u001b[38;5;28mself\u001b[39m\u001b[38;5;241m.\u001b[39m_allow_stdin:\n\u001b[0;32m   1072\u001b[0m     \u001b[38;5;28;01mraise\u001b[39;00m StdinNotImplementedError(\n\u001b[0;32m   1073\u001b[0m         \u001b[38;5;124m\"\u001b[39m\u001b[38;5;124mraw_input was called, but this frontend does not support input requests.\u001b[39m\u001b[38;5;124m\"\u001b[39m\n\u001b[0;32m   1074\u001b[0m     )\n\u001b[1;32m-> 1075\u001b[0m \u001b[38;5;28;01mreturn\u001b[39;00m \u001b[38;5;28;43mself\u001b[39;49m\u001b[38;5;241;43m.\u001b[39;49m\u001b[43m_input_request\u001b[49m\u001b[43m(\u001b[49m\n\u001b[0;32m   1076\u001b[0m \u001b[43m    \u001b[49m\u001b[38;5;28;43mstr\u001b[39;49m\u001b[43m(\u001b[49m\u001b[43mprompt\u001b[49m\u001b[43m)\u001b[49m\u001b[43m,\u001b[49m\n\u001b[0;32m   1077\u001b[0m \u001b[43m    \u001b[49m\u001b[38;5;28;43mself\u001b[39;49m\u001b[38;5;241;43m.\u001b[39;49m\u001b[43m_parent_ident\u001b[49m\u001b[43m[\u001b[49m\u001b[38;5;124;43m\"\u001b[39;49m\u001b[38;5;124;43mshell\u001b[39;49m\u001b[38;5;124;43m\"\u001b[39;49m\u001b[43m]\u001b[49m\u001b[43m,\u001b[49m\n\u001b[0;32m   1078\u001b[0m \u001b[43m    \u001b[49m\u001b[38;5;28;43mself\u001b[39;49m\u001b[38;5;241;43m.\u001b[39;49m\u001b[43mget_parent\u001b[49m\u001b[43m(\u001b[49m\u001b[38;5;124;43m\"\u001b[39;49m\u001b[38;5;124;43mshell\u001b[39;49m\u001b[38;5;124;43m\"\u001b[39;49m\u001b[43m)\u001b[49m\u001b[43m,\u001b[49m\n\u001b[0;32m   1079\u001b[0m \u001b[43m    \u001b[49m\u001b[43mpassword\u001b[49m\u001b[38;5;241;43m=\u001b[39;49m\u001b[38;5;28;43;01mFalse\u001b[39;49;00m\u001b[43m,\u001b[49m\n\u001b[0;32m   1080\u001b[0m \u001b[43m\u001b[49m\u001b[43m)\u001b[49m\n",
      "File \u001b[1;32m~\\anaconda3\\lib\\site-packages\\ipykernel\\kernelbase.py:1120\u001b[0m, in \u001b[0;36mKernel._input_request\u001b[1;34m(self, prompt, ident, parent, password)\u001b[0m\n\u001b[0;32m   1117\u001b[0m             \u001b[38;5;28;01mbreak\u001b[39;00m\n\u001b[0;32m   1118\u001b[0m \u001b[38;5;28;01mexcept\u001b[39;00m \u001b[38;5;167;01mKeyboardInterrupt\u001b[39;00m:\n\u001b[0;32m   1119\u001b[0m     \u001b[38;5;66;03m# re-raise KeyboardInterrupt, to truncate traceback\u001b[39;00m\n\u001b[1;32m-> 1120\u001b[0m     \u001b[38;5;28;01mraise\u001b[39;00m \u001b[38;5;167;01mKeyboardInterrupt\u001b[39;00m(\u001b[38;5;124m\"\u001b[39m\u001b[38;5;124mInterrupted by user\u001b[39m\u001b[38;5;124m\"\u001b[39m) \u001b[38;5;28;01mfrom\u001b[39;00m \u001b[38;5;28mNone\u001b[39m\n\u001b[0;32m   1121\u001b[0m \u001b[38;5;28;01mexcept\u001b[39;00m \u001b[38;5;167;01mException\u001b[39;00m:\n\u001b[0;32m   1122\u001b[0m     \u001b[38;5;28mself\u001b[39m\u001b[38;5;241m.\u001b[39mlog\u001b[38;5;241m.\u001b[39mwarning(\u001b[38;5;124m\"\u001b[39m\u001b[38;5;124mInvalid Message:\u001b[39m\u001b[38;5;124m\"\u001b[39m, exc_info\u001b[38;5;241m=\u001b[39m\u001b[38;5;28;01mTrue\u001b[39;00m)\n",
      "\u001b[1;31mKeyboardInterrupt\u001b[0m: Interrupted by user"
     ]
    }
   ],
   "source": [
    "def pizza():\n",
    "\n",
    "    flv=input(\"enter which flavour you want to eat? \")\n",
    "    print(\"the flavour of your pizza is \",flv.upper())\n",
    "    \n",
    "    size=input(\"enter the size of your pizza? \")\n",
    "    print(\"the size of your pizza is \",size)\n",
    "\n",
    "    \n",
    "    #     print(\"\\n\\nenter 'quit' to close the program\")\n",
    "    toppinglist=[]\n",
    "    \n",
    "    top=\"\"\n",
    "    while top!='quit':\n",
    "        top=input((\"enter your topping you want to add on your pizza?\"))\n",
    "        if top != \"quit\":\n",
    "            toppinglist.append(top)\n",
    "            \n",
    "    print(toppinglist)\n",
    "    print(\"enter 'quit' to close the program\")\n",
    "    choice=input(\"do you want to order pizza ? \")\n",
    "    if choice == 'yes':\n",
    "        pizza()\n",
    "    \n",
    "    \n",
    "    \n",
    "        \n",
    "    \n",
    "pizza()"
   ]
  },
  {
   "cell_type": "code",
   "execution_count": 11,
   "id": "3a8f1a71",
   "metadata": {},
   "outputs": [
    {
     "data": {
      "text/plain": [
       "8"
      ]
     },
     "execution_count": 11,
     "metadata": {},
     "output_type": "execute_result"
    }
   ],
   "source": [
    "ul=[4,8,7,6,9,4,5,7,2,1,4]\n",
    "max1=max(ul)\n",
    "l=ul.index(max1)\n",
    "list1=[]\n",
    "list1=ul[:l]\n",
    "list2=ul[l+1:]\n",
    "list3=list1+list2\n",
    "max2=max(list3)\n",
    "max2\n",
    "\n",
    "\n"
   ]
  },
  {
   "cell_type": "code",
   "execution_count": 5,
   "id": "474c823f",
   "metadata": {},
   "outputs": [
    {
     "name": "stdout",
     "output_type": "stream",
     "text": [
      "index of  0 is on  4\n",
      "index of  1 is on  5\n",
      "index of  2 is on  6\n",
      "index of  3 is on  7\n",
      "index of  4 is on  8\n",
      "pos=  5\n",
      "neg=  4\n"
     ]
    }
   ],
   "source": [
    "ul=[-4,-3,-2,-1,0,1,2,3,4]\n",
    "pos=0\n",
    "neg=0\n",
    "for i in ul:\n",
    "    if i>=0:\n",
    "        print(\"index of \",i,\"is on \",ul.index(i))\n",
    "        pos+=1\n",
    "    else:\n",
    "        neg+=1\n",
    "\n",
    "print(\"pos= \",pos)\n",
    "print(\"neg= \",neg)"
   ]
  },
  {
   "cell_type": "markdown",
   "id": "b4537c5b",
   "metadata": {},
   "source": [
    "# list Interchange "
   ]
  },
  {
   "cell_type": "code",
   "execution_count": 31,
   "id": "528c36d5",
   "metadata": {},
   "outputs": [
    {
     "data": {
      "text/plain": [
       "[1, 8, 7, 6, 9, 4, 5, 7, 2, 4]"
      ]
     },
     "execution_count": 31,
     "metadata": {},
     "output_type": "execute_result"
    }
   ],
   "source": [
    "ul=[4,8,7,6,9,4,5,7,2,1]\n",
    "fi=ul[0]\n",
    "li=ul[len(ul)-1]\n",
    "\n",
    "x=0\n",
    "\n",
    "x=fi\n",
    "fi=li\n",
    "li=x\n",
    "\n",
    "\n",
    "fi\n",
    "li\n",
    "\n",
    "ul[0]=fi\n",
    "ul[len(ul)-1]=li\n",
    "\n",
    "ul"
   ]
  },
  {
   "cell_type": "code",
   "execution_count": null,
   "id": "335d33dc",
   "metadata": {},
   "outputs": [],
   "source": []
  }
 ],
 "metadata": {
  "kernelspec": {
   "display_name": "Python 3 (ipykernel)",
   "language": "python",
   "name": "python3"
  },
  "language_info": {
   "codemirror_mode": {
    "name": "ipython",
    "version": 3
   },
   "file_extension": ".py",
   "mimetype": "text/x-python",
   "name": "python",
   "nbconvert_exporter": "python",
   "pygments_lexer": "ipython3",
   "version": "3.9.12"
  }
 },
 "nbformat": 4,
 "nbformat_minor": 5
}
